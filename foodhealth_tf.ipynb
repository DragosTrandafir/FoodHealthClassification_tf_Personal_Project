{
 "cells": [
  {
   "cell_type": "code",
   "id": "bb686513-c43a-499c-ad90-1a23c59d478d",
   "metadata": {
    "ExecuteTime": {
     "end_time": "2025-02-20T19:40:17.497339Z",
     "start_time": "2025-02-20T19:39:55.026987Z"
    }
   },
   "source": [
    "import numpy as np # arrays & loading data\n",
    "\n",
    "from sklearn.model_selection import train_test_split # we will split the data in 3 (training + cross validation + testing data)\n",
    "from sklearn.preprocessing import StandardScaler # z-score normalization & polynomials classes \n",
    "\n",
    "import tensorflow as tf # for building and training neural networks\n",
    "\n",
    "from utils import build_models # here we have a bunch of models to try\n",
    "\n",
    "# reduce display precision on numpy arrays\n",
    "np.set_printoptions(precision=2)\n",
    "\n",
    "# suppress warnings\n",
    "tf.get_logger().setLevel('ERROR')\n",
    "tf.autograph.set_verbosity(0)"
   ],
   "outputs": [],
   "execution_count": 4
  },
  {
   "cell_type": "code",
   "id": "97cd937f-f178-4afe-bd8f-b075ffb4d6d0",
   "metadata": {
    "ExecuteTime": {
     "end_time": "2025-02-20T19:40:43.839786Z",
     "start_time": "2025-02-20T19:40:43.833560Z"
    }
   },
   "source": [
    "# loading all the data\n",
    "data = np.loadtxt('./food_data.csv', delimiter=',', skiprows=1, usecols=range(1, 7))\n",
    "\n",
    "X = data[:,:-1] # forming the input and output \n",
    "y= data[:,-1]\n",
    "\n",
    "y= np.expand_dims(y, axis=1) # make y 2D - the commands later will require it\n",
    "\n",
    "print(f\"shape of input X is: {X.shape}\")\n",
    "print(f\"shape of output y is: {y.shape}\")"
   ],
   "outputs": [
    {
     "name": "stdout",
     "output_type": "stream",
     "text": [
      "shape of input X is: (47, 5)\n",
      "shape of output y is: (47, 1)\n"
     ]
    }
   ],
   "execution_count": 5
  },
  {
   "cell_type": "code",
   "id": "f5ba29e0-6f81-4e6c-83e1-37f318bb9e46",
   "metadata": {
    "ExecuteTime": {
     "end_time": "2025-02-20T19:40:51.141993Z",
     "start_time": "2025-02-20T19:40:51.133711Z"
    }
   },
   "source": [
    "# split into training , cross validation and test sets\n",
    "\n",
    "# TRAINING SET - 60%\n",
    "X_train, X_temporary, y_train, y_temporary = train_test_split(X, y, test_size=0.40, random_state=1)\n",
    "\n",
    "# the rest of 40% - CV SET(20%) and TEST SET(20%)\n",
    "X_cv, X_test, y_cv, y_test = train_test_split(X_temporary, y_temporary, test_size=0.50, random_state=1)\n",
    "del X_temporary, y_temporary\n",
    "\n",
    "print(f\"training input shape:{X_train.shape}\")\n",
    "print(f\"training output shape:{y_train.shape}\")\n",
    "print(f\"cv input shape:{X_cv.shape}\")\n",
    "print(f\"cv output shape:{y_cv.shape}\")\n",
    "print(f\"test input shape:{X_test.shape}\")\n",
    "print(f\"test output shape:{y_test.shape}\")"
   ],
   "outputs": [
    {
     "name": "stdout",
     "output_type": "stream",
     "text": [
      "training input shape:(28, 5)\n",
      "training output shape:(28, 1)\n",
      "cv input shape:(9, 5)\n",
      "cv output shape:(9, 1)\n",
      "test input shape:(10, 5)\n",
      "test output shape:(10, 1)\n"
     ]
    }
   ],
   "execution_count": 6
  },
  {
   "cell_type": "code",
   "id": "45b0f7db-8b39-4be6-be91-78f8ed612c82",
   "metadata": {
    "ExecuteTime": {
     "end_time": "2025-02-20T19:40:56.652853Z",
     "start_time": "2025-02-20T19:40:56.648221Z"
    }
   },
   "source": [
    "# TRAINING DATA, CV DATA & TEST DATA OPERATIONS\n",
    "# applying z-score to all the training data - adjust the data based on its distribution for the algorithms to work better (converge faster) \n",
    "standard_scaler = StandardScaler()\n",
    "X_train_scaled = standard_scaler.fit_transform(X_train)\n",
    "X_cv_scaled = standard_scaler.transform(X_cv) \n",
    "X_test_scaled = standard_scaler.transform(X_test)\n"
   ],
   "outputs": [],
   "execution_count": 7
  },
  {
   "cell_type": "code",
   "id": "842434c0-ee1b-425f-b43c-08c32f86cd9a",
   "metadata": {
    "ExecuteTime": {
     "end_time": "2025-02-20T19:42:51.715495Z",
     "start_time": "2025-02-20T19:42:06.867084Z"
    }
   },
   "source": [
    "# calculate errors for some models and chose the one with the best neural network\n",
    "train_errors=[]\n",
    "cv_errors=[]    # initialize lists that will contain a history of error numbers at each iteration\n",
    "\n",
    "# this is the list of all the models we will check\n",
    "models = build_models()\n",
    "\n",
    "#loop through all the models\n",
    "for model in models:\n",
    "    # compile - set the loss and optimizer\n",
    "    model.compile(\n",
    "        # this is similar to gradient descent, but it is a much improved version\n",
    "        loss=tf.keras.losses.BinaryCrossentropy(from_logits=True), # BC - binary class & from_logits helps our calculations be more accurate\n",
    "        optimizer=tf.keras.optimizers.Adam(learning_rate=0.03), # preimplemented optimizer\n",
    "    )\n",
    "    \n",
    "    # train the model \"epochs\" times\n",
    "    model.fit(\n",
    "        X_train_scaled, y_train,\n",
    "        epochs=200,\n",
    "        verbose=0\n",
    "    )\n",
    "    # threshold 0.5 because we are in a binary class example\n",
    "\n",
    "    # fraction of misclassified outputs in the TRAINING SET\n",
    "    y_predicted = model.predict(X_train_scaled)\n",
    "    y_predicted = tf.math.sigmoid(y_predicted) # classify above or below the threshold\n",
    "    # classic way of calculating the error in a classification case\n",
    "    y_predicted = np.where(y_predicted>=0.5,1,0)\n",
    "    error_training = np.mean(y_predicted != y_train) # arithmetic mean, where the numerator is the count of wrong predictions\n",
    "    train_errors.append(error_training)\n",
    "    \n",
    "    # fraction of misclassified outputs in the CV SET\n",
    "    y_predicted = model.predict(X_cv_scaled)\n",
    "    y_predicted = tf.math.sigmoid(y_predicted) \n",
    "    y_predicted = np.where(y_predicted>=0.5,1,0)\n",
    "    error_cv = np.mean(y_predicted != y_cv) # arithmetic mean, where the numerator is the count of wrong predictions\n",
    "    cv_errors.append(error_cv)\n",
    "    \n",
    "# Print the result\n",
    "for model_num in range(len(train_errors)):\n",
    "    print(\n",
    "        f\"Model {model_num+1}: Training Set Classification Error: {train_errors[model_num]:.5f}, \" +\n",
    "        f\"CV Set Classification Error: {cv_errors[model_num]:.5f}\"\n",
    "        )"
   ],
   "outputs": [
    {
     "name": "stdout",
     "output_type": "stream",
     "text": [
      "\u001B[1m1/1\u001B[0m \u001B[32m━━━━━━━━━━━━━━━━━━━━\u001B[0m\u001B[37m\u001B[0m \u001B[1m0s\u001B[0m 52ms/step\n",
      "\u001B[1m1/1\u001B[0m \u001B[32m━━━━━━━━━━━━━━━━━━━━\u001B[0m\u001B[37m\u001B[0m \u001B[1m0s\u001B[0m 53ms/step\n",
      "\u001B[1m1/1\u001B[0m \u001B[32m━━━━━━━━━━━━━━━━━━━━\u001B[0m\u001B[37m\u001B[0m \u001B[1m0s\u001B[0m 67ms/step\n",
      "\u001B[1m1/1\u001B[0m \u001B[32m━━━━━━━━━━━━━━━━━━━━\u001B[0m\u001B[37m\u001B[0m \u001B[1m0s\u001B[0m 77ms/step\n",
      "\u001B[1m1/1\u001B[0m \u001B[32m━━━━━━━━━━━━━━━━━━━━\u001B[0m\u001B[37m\u001B[0m \u001B[1m0s\u001B[0m 76ms/step\n",
      "\u001B[1m1/1\u001B[0m \u001B[32m━━━━━━━━━━━━━━━━━━━━\u001B[0m\u001B[37m\u001B[0m \u001B[1m0s\u001B[0m 77ms/step\n",
      "\u001B[1m1/1\u001B[0m \u001B[32m━━━━━━━━━━━━━━━━━━━━\u001B[0m\u001B[37m\u001B[0m \u001B[1m0s\u001B[0m 53ms/step\n",
      "\u001B[1m1/1\u001B[0m \u001B[32m━━━━━━━━━━━━━━━━━━━━\u001B[0m\u001B[37m\u001B[0m \u001B[1m0s\u001B[0m 50ms/step\n",
      "\u001B[1m1/1\u001B[0m \u001B[32m━━━━━━━━━━━━━━━━━━━━\u001B[0m\u001B[37m\u001B[0m \u001B[1m0s\u001B[0m 71ms/step\n",
      "\u001B[1m1/1\u001B[0m \u001B[32m━━━━━━━━━━━━━━━━━━━━\u001B[0m\u001B[37m\u001B[0m \u001B[1m0s\u001B[0m 76ms/step\n",
      "Model 1: Training Set Classification Error: 0.00000, CV Set Classification Error: 0.11111\n",
      "Model 2: Training Set Classification Error: 0.00000, CV Set Classification Error: 0.11111\n",
      "Model 3: Training Set Classification Error: 0.00000, CV Set Classification Error: 0.22222\n",
      "Model 4: Training Set Classification Error: 0.00000, CV Set Classification Error: 0.22222\n",
      "Model 5: Training Set Classification Error: 0.00000, CV Set Classification Error: 0.00000\n"
     ]
    }
   ],
   "execution_count": 8
  },
  {
   "cell_type": "code",
   "id": "934823b1-4a87-40a1-a916-b4ff9323ee44",
   "metadata": {
    "ExecuteTime": {
     "end_time": "2025-02-20T19:43:01.646810Z",
     "start_time": "2025-02-20T19:43:01.567804Z"
    }
   },
   "source": [
    "# choose model that performed the best\n",
    "index = 5\n",
    "\n",
    "# test error calculated as cv error from above\n",
    "y_predicted = models[index-1].predict(X_test_scaled)\n",
    "y_predicted = tf.math.sigmoid(y_predicted) \n",
    "y_predicted = np.where(y_predicted>=0.5,1,0)\n",
    "error_test = np.mean(y_predicted != y_test) \n",
    "\n",
    "print(f\"Test Set Classification Error for model {index}: {error_test}\")\n"
   ],
   "outputs": [
    {
     "name": "stdout",
     "output_type": "stream",
     "text": [
      "\u001B[1m1/1\u001B[0m \u001B[32m━━━━━━━━━━━━━━━━━━━━\u001B[0m\u001B[37m\u001B[0m \u001B[1m0s\u001B[0m 33ms/step\n",
      "Test Set Classification Error for model 5: 0.2\n"
     ]
    }
   ],
   "execution_count": 9
  },
  {
   "cell_type": "code",
   "id": "78939863-17a6-4376-a9c7-473e88ee33ca",
   "metadata": {
    "ExecuteTime": {
     "end_time": "2025-02-20T19:43:28.424399Z",
     "start_time": "2025-02-20T19:43:12.082955Z"
    }
   },
   "source": [
    "# user interaction\n",
    "total_fat = float(input(\"Total fat :\"))\n",
    "sat_fat = float(input(\"Saturated fat :\"))\n",
    "carbo = float(input(\"Carbohydrates :\"))\n",
    "sugars = float(input(\"Total sugars :\"))\n",
    "protein = float(input(\"Protein :\"))\n",
    "\n",
    "x_user = np.array([[total_fat, sat_fat, carbo, sugars, protein]]) # we need a 2D array \n",
    "\n",
    "x_user_scaled = standard_scaler.transform(x_user)\n",
    "y_predicted = models[index-1].predict(x_user_scaled) # scale and use the model exactly as before\n",
    "\n",
    "\n",
    "y_predicted = tf.math.sigmoid(y_predicted) # classify below or above the threshold 0.5\n",
    "print(y_predicted)\n",
    "if y_predicted[0] >= 0.5:\n",
    "    print(\"This food is healthy.\")\n",
    "else:\n",
    "     print(\"This food is unhealthy.\")"
   ],
   "outputs": [
    {
     "name": "stdout",
     "output_type": "stream",
     "text": [
      "\u001B[1m1/1\u001B[0m \u001B[32m━━━━━━━━━━━━━━━━━━━━\u001B[0m\u001B[37m\u001B[0m \u001B[1m0s\u001B[0m 38ms/step\n",
      "tf.Tensor([[0.]], shape=(1, 1), dtype=float32)\n",
      "This food is unhealthy.\n"
     ]
    }
   ],
   "execution_count": 10
  },
  {
   "cell_type": "code",
   "execution_count": null,
   "id": "4aeacc06-e53d-4ee9-bc22-c126e97aa6e3",
   "metadata": {},
   "outputs": [],
   "source": []
  }
 ],
 "metadata": {
  "kernelspec": {
   "display_name": "Python 3 (ipykernel)",
   "language": "python",
   "name": "python3"
  },
  "language_info": {
   "codemirror_mode": {
    "name": "ipython",
    "version": 3
   },
   "file_extension": ".py",
   "mimetype": "text/x-python",
   "name": "python",
   "nbconvert_exporter": "python",
   "pygments_lexer": "ipython3",
   "version": "3.12.0"
  }
 },
 "nbformat": 4,
 "nbformat_minor": 5
}
